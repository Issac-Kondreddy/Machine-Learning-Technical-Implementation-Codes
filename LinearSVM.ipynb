{
 "cells": [
  {
   "cell_type": "code",
   "id": "initial_id",
   "metadata": {
    "collapsed": true,
    "ExecuteTime": {
     "end_time": "2025-04-16T13:35:50.870849Z",
     "start_time": "2025-04-16T13:35:50.501736Z"
    }
   },
   "source": [
    "import numpy as np\n",
    "import matplotlib.pyplot as plt"
   ],
   "outputs": [],
   "execution_count": 1
  },
  {
   "metadata": {
    "ExecuteTime": {
     "end_time": "2025-04-16T13:45:44.133122Z",
     "start_time": "2025-04-16T13:45:44.124499Z"
    }
   },
   "cell_type": "code",
   "source": [
    "class linearSVM:\n",
    "    def __init__(self, learning_rate=0.001, epochs=1000, C=1):\n",
    "        self.lr = learning_rate\n",
    "        self.epochs = epochs\n",
    "        self.C = C\n",
    "        self.weights = None\n",
    "        self.bias = 0\n",
    "    def fit(self, X, y):\n",
    "        X = np.array(X)\n",
    "        y = np.array(y)\n",
    "        num_samples, num_features = X.shape\n",
    "        self.weights = np.zeros(num_features)\n",
    "        for _ in range(self.epochs):\n",
    "            for idx, x_i in enumerate(X):\n",
    "                margin = y[idx] * (np.dot(self.weights, x_i) + self.bias)\n",
    "                if margin>=1:\n",
    "                    self.weights -= self.lr * self.weights\n",
    "                else:\n",
    "                    self.weights -= self.lr * (self.weights - self.C * y[idx]*x_i)\n",
    "                    self.bias += self.lr * self.C * y[idx]\n",
    "        return self.weights, self.bias\n",
    "    def predict(self, X):\n",
    "        X = np.array(X)\n",
    "        z = np.dot(X, self.weights) + self.bias\n",
    "        return np.sign(z)\n"
   ],
   "id": "8294a367c1e37e80",
   "outputs": [],
   "execution_count": 6
  },
  {
   "metadata": {
    "ExecuteTime": {
     "end_time": "2025-04-16T13:46:00.463838Z",
     "start_time": "2025-04-16T13:46:00.444246Z"
    }
   },
   "cell_type": "code",
   "source": [
    "X = [[2, 3], [1, 1], [2, 1], [3, 5]]\n",
    "y = [1, 1, -1, -1]\n",
    "\n",
    "model = linearSVM()\n",
    "model.fit(X, y)\n",
    "\n",
    "print(\"Weights:\", model.weights)\n",
    "print(\"Bias:\", model.bias)\n",
    "\n",
    "test_points = [[4, 5], [0, 1], [3, 1], [1, 3]]\n",
    "print(\"Predictions:\", model.predict(test_points))\n"
   ],
   "id": "ab2cccf8f93b6251",
   "outputs": [
    {
     "name": "stdout",
     "output_type": "stream",
     "text": [
      "Weights: [-0.26070226 -0.10677258]\n",
      "Bias: 0.3020000000000002\n",
      "Predictions: [-1.  1. -1. -1.]\n"
     ]
    }
   ],
   "execution_count": 8
  },
  {
   "metadata": {},
   "cell_type": "code",
   "outputs": [],
   "execution_count": null,
   "source": "",
   "id": "21be43895957ffb0"
  }
 ],
 "metadata": {
  "kernelspec": {
   "display_name": "Python 3",
   "language": "python",
   "name": "python3"
  },
  "language_info": {
   "codemirror_mode": {
    "name": "ipython",
    "version": 2
   },
   "file_extension": ".py",
   "mimetype": "text/x-python",
   "name": "python",
   "nbconvert_exporter": "python",
   "pygments_lexer": "ipython2",
   "version": "2.7.6"
  }
 },
 "nbformat": 4,
 "nbformat_minor": 5
}
