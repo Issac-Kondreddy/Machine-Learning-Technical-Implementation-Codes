{
 "cells": [
  {
   "cell_type": "code",
   "id": "initial_id",
   "metadata": {
    "collapsed": true,
    "ExecuteTime": {
     "end_time": "2025-04-15T12:52:06.124047Z",
     "start_time": "2025-04-15T12:52:05.492398Z"
    }
   },
   "source": [
    "from sklearn.datasets import load_iris\n",
    "from sklearn.model_selection import train_test_split\n",
    "import numpy as np\n",
    "from collections import Counter"
   ],
   "outputs": [],
   "execution_count": 1
  },
  {
   "metadata": {
    "ExecuteTime": {
     "end_time": "2025-04-15T12:52:10.504437Z",
     "start_time": "2025-04-15T12:52:10.496797Z"
    }
   },
   "cell_type": "code",
   "source": [
    "# Load iris\n",
    "iris = load_iris()\n",
    "X = iris.data\n",
    "y = iris.target\n",
    "\n",
    "# Split into train and test\n",
    "X_train, X_test, y_train, y_test = train_test_split(X, y, test_size=0.2, random_state=42)"
   ],
   "id": "f0057ef5028c06b4",
   "outputs": [],
   "execution_count": 2
  },
  {
   "metadata": {
    "ExecuteTime": {
     "end_time": "2025-04-15T12:52:23.777505Z",
     "start_time": "2025-04-15T12:52:23.268497Z"
    }
   },
   "cell_type": "code",
   "source": [
    "from sklearn.tree import DecisionTreeClassifier as SklearnTree\n",
    "from sklearn.metrics import accuracy_score\n",
    "\n",
    "sk_model = SklearnTree(max_depth=3)\n",
    "sk_model.fit(X_train, y_train)\n",
    "sk_preds = sk_model.predict(X_test)\n",
    "\n",
    "print(\"Sklearn Accuracy:\", accuracy_score(y_test, sk_preds) * 100)"
   ],
   "id": "dfdfd2befeaa1c38",
   "outputs": [
    {
     "name": "stdout",
     "output_type": "stream",
     "text": [
      "Sklearn Accuracy: 100.0\n"
     ]
    }
   ],
   "execution_count": 3
  },
  {
   "metadata": {
    "ExecuteTime": {
     "end_time": "2025-04-15T12:52:45.839678Z",
     "start_time": "2025-04-15T12:52:45.834665Z"
    }
   },
   "cell_type": "code",
   "source": [
    "for i in range(len(y_test)):\n",
    "    if y_test[i] != sk_preds[i]:\n",
    "        print(f\"Wrong prediction → True: {y_test[i]}, Predicted: {sk_preds[i]}\")"
   ],
   "id": "e8d577824273b452",
   "outputs": [],
   "execution_count": 4
  },
  {
   "metadata": {},
   "cell_type": "code",
   "outputs": [],
   "execution_count": null,
   "source": "",
   "id": "812297e93086c068"
  }
 ],
 "metadata": {
  "kernelspec": {
   "display_name": "Python 3",
   "language": "python",
   "name": "python3"
  },
  "language_info": {
   "codemirror_mode": {
    "name": "ipython",
    "version": 2
   },
   "file_extension": ".py",
   "mimetype": "text/x-python",
   "name": "python",
   "nbconvert_exporter": "python",
   "pygments_lexer": "ipython2",
   "version": "2.7.6"
  }
 },
 "nbformat": 4,
 "nbformat_minor": 5
}
