{
 "cells": [
  {
   "cell_type": "code",
   "id": "initial_id",
   "metadata": {
    "collapsed": true,
    "ExecuteTime": {
     "end_time": "2025-04-11T20:24:27.304393Z",
     "start_time": "2025-04-11T20:24:27.301152Z"
    }
   },
   "source": [
    "import numpy as np\n",
    "import matplotlib.pyplot as plt\n",
    "from collections import Counter"
   ],
   "outputs": [],
   "execution_count": 3
  },
  {
   "metadata": {
    "ExecuteTime": {
     "end_time": "2025-04-11T20:25:38.713313Z",
     "start_time": "2025-04-11T20:25:38.706694Z"
    }
   },
   "cell_type": "code",
   "source": [
    "class KNN:\n",
    "    def __init__(self, k=3, distance_metric='euclidean'):\n",
    "        self.k = k\n",
    "        self.distance_metric = distance_metric\n",
    "        self.X_train = None\n",
    "        self.y_train = None\n",
    "\n",
    "    def fit(self, X, y):\n",
    "        \"\"\"\n",
    "        Just store the data. KNN is a lazy learner.\n",
    "        \"\"\"\n",
    "        self.X_train = np.array(X)\n",
    "        self.y_train = np.array(y)\n",
    "\n",
    "    def _euclidean(self, x1, x2):\n",
    "        return np.sqrt(np.sum((x1 - x2)**2))\n",
    "\n",
    "    def _manhattan(self, x1, x2):\n",
    "        return np.sum(np.abs(x1 - x2))\n",
    "\n",
    "    def _cosine(self, x1, x2):\n",
    "        num = np.dot(x1, x2)\n",
    "        denom = np.linalg.norm(x1) * np.linalg.norm(x2)\n",
    "        return 1 - (num / denom)  # cosine **distance** (not similarity)\n",
    "\n",
    "    def _compute_distance(self, x1, x2):\n",
    "        if self.distance_metric == 'euclidean':\n",
    "            return self._euclidean(x1, x2)\n",
    "        elif self.distance_metric == 'manhattan':\n",
    "            return self._manhattan(x1, x2)\n",
    "        elif self.distance_metric == 'cosine':\n",
    "            return self._cosine(x1, x2)\n",
    "        else:\n",
    "            raise ValueError(\"Unsupported distance metric\")\n",
    "\n",
    "    def predict(self, X):\n",
    "        \"\"\"\n",
    "        Predict labels for all test points\n",
    "        \"\"\"\n",
    "        predictions = []\n",
    "        for point in X:\n",
    "            distances = [self._compute_distance(point, x_train) for x_train in self.X_train]\n",
    "            k_indices = np.argsort(distances)[:self.k]\n",
    "            k_labels = self.y_train[k_indices]\n",
    "            most_common = Counter(k_labels).most_common(1)[0][0]\n",
    "            predictions.append(most_common)\n",
    "        return np.array(predictions)"
   ],
   "id": "d9e0c01f071e55f",
   "outputs": [],
   "execution_count": 9
  },
  {
   "metadata": {
    "ExecuteTime": {
     "end_time": "2025-04-11T20:25:45.465120Z",
     "start_time": "2025-04-11T20:25:45.447684Z"
    }
   },
   "cell_type": "code",
   "source": [
    "X_train = [[1, 2], [2, 3], [3, 3], [8, 8]]\n",
    "y_train = [0, 0, 1, 1]\n",
    "\n",
    "X_test = [[3, 2], [9, 9]]\n",
    "\n",
    "# Default: Euclidean\n",
    "model = KNN(k=3)\n",
    "model.fit(X_train, y_train)\n",
    "print(\"Euclidean:\", model.predict(X_test))\n",
    "\n",
    "# Manhattan\n",
    "model_manhattan = KNN(k=3, distance_metric='manhattan')\n",
    "model_manhattan.fit(X_train, y_train)\n",
    "print(\"Manhattan:\", model_manhattan.predict(X_test))\n",
    "\n",
    "# Cosine\n",
    "model_cosine = KNN(k=3, distance_metric='cosine')\n",
    "model_cosine.fit(X_train, y_train)\n",
    "print(\"Cosine:\", model_cosine.predict(X_test))"
   ],
   "id": "334746c86ab0e866",
   "outputs": [
    {
     "name": "stdout",
     "output_type": "stream",
     "text": [
      "Euclidean: [0 1]\n",
      "Manhattan: [0 1]\n",
      "Cosine: [1 1]\n"
     ]
    }
   ],
   "execution_count": 10
  },
  {
   "metadata": {},
   "cell_type": "code",
   "outputs": [],
   "execution_count": null,
   "source": "",
   "id": "244c69410492d3cf"
  }
 ],
 "metadata": {
  "kernelspec": {
   "display_name": "Python 3",
   "language": "python",
   "name": "python3"
  },
  "language_info": {
   "codemirror_mode": {
    "name": "ipython",
    "version": 2
   },
   "file_extension": ".py",
   "mimetype": "text/x-python",
   "name": "python",
   "nbconvert_exporter": "python",
   "pygments_lexer": "ipython2",
   "version": "2.7.6"
  }
 },
 "nbformat": 4,
 "nbformat_minor": 5
}
