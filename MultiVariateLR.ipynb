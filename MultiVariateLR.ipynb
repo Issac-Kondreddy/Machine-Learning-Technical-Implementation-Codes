{
 "cells": [
  {
   "cell_type": "code",
   "id": "initial_id",
   "metadata": {
    "collapsed": true,
    "ExecuteTime": {
     "end_time": "2025-04-07T19:03:46.915842Z",
     "start_time": "2025-04-07T19:03:46.908722Z"
    }
   },
   "source": [
    "import numpy as np\n",
    "class multivariateLR:\n",
    "    def __init__(self):\n",
    "        self.weight = None\n",
    "    def fit(self, X, y):\n",
    "        X = np.array(X)\n",
    "        y = np.array(y)\n",
    "        ones = np.ones((X.shape[0],1))\n",
    "        X_b = np.hstack((ones, X))\n",
    "        self.weight = np.linalg.inv(X_b.T @ X_b) @ X_b.T@y\n",
    "    def predict(self,X):\n",
    "        X = np.array(X)\n",
    "        ones = np.ones((X.shape[0],1))\n",
    "        X_b = np.hstack((ones, X))\n",
    "        return X_b@self.weight\n",
    "    def mse(self, y_true, y_pred):\n",
    "        return np.mean((y_true-y_pred)**2)\n",
    "    def r2(self,y_true, y_pred):\n",
    "        r2_num = np.sum((y_true-y_pred)**2)\n",
    "        r2_den = np.sum((y_true-np.mean(y_true))**2)\n",
    "        return 1 - (r2_num/r2_den)\n"
   ],
   "outputs": [],
   "execution_count": 11
  },
  {
   "metadata": {
    "ExecuteTime": {
     "end_time": "2025-04-07T19:06:29.039575Z",
     "start_time": "2025-04-07T19:06:29.025643Z"
    }
   },
   "cell_type": "code",
   "source": [
    "# Features: [square_feet, number_of_rooms]\n",
    "X = np.array([\n",
    "    [1000, 2],\n",
    "    [1200, 3],\n",
    "    [1500, 4],\n",
    "    [1700, 3],\n",
    "    [2000, 5]\n",
    "])\n",
    "\n",
    "# Target: price in $1000s\n",
    "y = np.array([200, 240, 300, 310, 400])\n",
    "\n",
    "model = multivariateLR()\n",
    "model.fit(X, y)\n",
    "\n",
    "print(\"Weights (intercept + coefficients):\", model.weight)\n",
    "\n",
    "# Predict price for new houses\n",
    "X_test = np.array([\n",
    "    [1300, 3],\n",
    "    [1800, 4]\n",
    "])\n",
    "\n",
    "y_pred = model.predict(X_test)\n",
    "print(\"Predictions:\", y_pred)\n",
    "y_pred_train = model.predict(X)\n",
    "mse_val = model.mse(y, y_pred_train)\n",
    "r2_val = model.r2(y, y_pred_train)\n",
    "\n",
    "print(\"MSE:\", mse_val)\n",
    "print(\"R² score:\", r2_val)\n"
   ],
   "id": "a10670786ac778b0",
   "outputs": [
    {
     "name": "stdout",
     "output_type": "stream",
     "text": [
      "Weights (intercept + coefficients): [14.09395973  0.1409396  19.79865772]\n",
      "Predictions: [256.7114094  346.97986577]\n",
      "MSE: 18.52348993288592\n",
      "R² score: 0.996007868548947\n"
     ]
    }
   ],
   "execution_count": 13
  },
  {
   "metadata": {},
   "cell_type": "code",
   "outputs": [],
   "execution_count": null,
   "source": "",
   "id": "9cc0d2ac1aaad8ee"
  }
 ],
 "metadata": {
  "kernelspec": {
   "display_name": "Python 3",
   "language": "python",
   "name": "python3"
  },
  "language_info": {
   "codemirror_mode": {
    "name": "ipython",
    "version": 2
   },
   "file_extension": ".py",
   "mimetype": "text/x-python",
   "name": "python",
   "nbconvert_exporter": "python",
   "pygments_lexer": "ipython2",
   "version": "2.7.6"
  }
 },
 "nbformat": 4,
 "nbformat_minor": 5
}
