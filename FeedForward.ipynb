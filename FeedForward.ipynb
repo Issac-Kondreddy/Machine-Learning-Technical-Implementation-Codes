{
 "cells": [
  {
   "cell_type": "code",
   "id": "initial_id",
   "metadata": {
    "collapsed": true,
    "ExecuteTime": {
     "end_time": "2025-04-18T16:56:15.960152Z",
     "start_time": "2025-04-18T16:56:15.888160Z"
    }
   },
   "source": "import numpy as np",
   "outputs": [],
   "execution_count": 1
  },
  {
   "metadata": {
    "ExecuteTime": {
     "end_time": "2025-04-18T16:56:19.690639Z",
     "start_time": "2025-04-18T16:56:19.688256Z"
    }
   },
   "cell_type": "code",
   "source": [
    "def relu(x):\n",
    "    return np.maximum(0, x)\n",
    "\n",
    "def relu_derivative(x):\n",
    "    return (x > 0).astype(float)\n",
    "\n",
    "def sigmoid(x):\n",
    "    return 1 / (1 + np.exp(-x))\n"
   ],
   "id": "bba3902a939d6116",
   "outputs": [],
   "execution_count": 2
  },
  {
   "metadata": {
    "ExecuteTime": {
     "end_time": "2025-04-18T16:56:28.423640Z",
     "start_time": "2025-04-18T16:56:28.418291Z"
    }
   },
   "cell_type": "code",
   "source": [
    "def binary_cross_entropy(y_true, y_pred):\n",
    "    epsilon = 1e-8\n",
    "    y_pred = np.clip(y_pred, epsilon, 1 - epsilon)\n",
    "    return -np.mean(y_true * np.log(y_pred) + (1 - y_true) * np.log(1 - y_pred))"
   ],
   "id": "9a2cff3d2244d4ee",
   "outputs": [],
   "execution_count": 3
  },
  {
   "metadata": {
    "ExecuteTime": {
     "end_time": "2025-04-18T16:56:39.581157Z",
     "start_time": "2025-04-18T16:56:39.567144Z"
    }
   },
   "cell_type": "code",
   "source": [
    "class FeedForwardNN:\n",
    "    def __init__(self, input_size, hidden_size, learning_rate=0.1):\n",
    "        self.lr = learning_rate\n",
    "        self.W1 = np.random.randn(input_size, hidden_size) * 0.01\n",
    "        self.b1 = np.zeros((1, hidden_size))\n",
    "        self.W2 = np.random.randn(hidden_size, 1) * 0.01\n",
    "        self.b2 = np.zeros((1, 1))\n",
    "\n",
    "    def forward(self, X):\n",
    "        self.Z1 = np.dot(X, self.W1) + self.b1\n",
    "        self.A1 = relu(self.Z1)\n",
    "        self.Z2 = np.dot(self.A1, self.W2) + self.b2\n",
    "        self.A2 = sigmoid(self.Z2)\n",
    "        return self.A2\n",
    "\n",
    "    def compute_loss(self, y_true, y_pred):\n",
    "        return binary_cross_entropy(y_true, y_pred)\n",
    "\n",
    "    def backward(self, X, y_true):\n",
    "        m = X.shape[0]\n",
    "        dZ2 = self.A2 - y_true\n",
    "        dW2 = np.dot(self.A1.T, dZ2) / m\n",
    "        db2 = np.sum(dZ2, axis=0, keepdims=True) / m\n",
    "\n",
    "        dA1 = np.dot(dZ2, self.W2.T)\n",
    "        dZ1 = dA1 * relu_derivative(self.Z1)\n",
    "        dW1 = np.dot(X.T, dZ1) / m\n",
    "        db1 = np.sum(dZ1, axis=0, keepdims=True) / m\n",
    "\n",
    "        self.W1 -= self.lr * dW1\n",
    "        self.b1 -= self.lr * db1\n",
    "        self.W2 -= self.lr * dW2\n",
    "        self.b2 -= self.lr * db2\n",
    "\n",
    "    def train(self, X, y, epochs=1000, print_loss_every=100):\n",
    "        for epoch in range(epochs):\n",
    "            y_pred = self.forward(X)\n",
    "            loss = self.compute_loss(y, y_pred)\n",
    "            self.backward(X, y)\n",
    "\n",
    "            if epoch % print_loss_every == 0:\n",
    "                print(f\"Epoch {epoch}, Loss: {loss:.4f}\")\n",
    "\n",
    "    def predict(self, X):\n",
    "        y_pred = self.forward(X)\n",
    "        return (y_pred > 0.5).astype(int)\n"
   ],
   "id": "c7d9b6a7840463a8",
   "outputs": [],
   "execution_count": 4
  },
  {
   "metadata": {
    "ExecuteTime": {
     "end_time": "2025-04-18T16:56:46.436151Z",
     "start_time": "2025-04-18T16:56:46.343566Z"
    }
   },
   "cell_type": "code",
   "source": [
    "if __name__ == \"__main__\":\n",
    "    # OR Gate dataset\n",
    "    X = np.array([[0,0], [0,1], [1,0], [1,1]])\n",
    "    y = np.array([[0], [1], [1], [1]])\n",
    "\n",
    "    # Create and train model\n",
    "    model = FeedForwardNN(input_size=2, hidden_size=4, learning_rate=0.1)\n",
    "    model.train(X, y, epochs=1000)\n",
    "\n",
    "    # Predict\n",
    "    preds = model.predict(X)\n",
    "    print(\"Predictions:\\n\", preds)\n"
   ],
   "id": "82bed23cb0e24dc8",
   "outputs": [
    {
     "name": "stdout",
     "output_type": "stream",
     "text": [
      "Epoch 0, Loss: 0.6931\n",
      "Epoch 100, Loss: 0.5614\n",
      "Epoch 200, Loss: 0.4935\n",
      "Epoch 300, Loss: 0.2838\n",
      "Epoch 400, Loss: 0.1534\n",
      "Epoch 500, Loss: 0.0924\n",
      "Epoch 600, Loss: 0.0624\n",
      "Epoch 700, Loss: 0.0459\n",
      "Epoch 800, Loss: 0.0358\n",
      "Epoch 900, Loss: 0.0291\n",
      "Predictions:\n",
      " [[0]\n",
      " [1]\n",
      " [1]\n",
      " [1]]\n"
     ]
    }
   ],
   "execution_count": 5
  },
  {
   "metadata": {},
   "cell_type": "code",
   "outputs": [],
   "execution_count": null,
   "source": "",
   "id": "25603b4809ca40ef"
  }
 ],
 "metadata": {
  "kernelspec": {
   "display_name": "Python 3",
   "language": "python",
   "name": "python3"
  },
  "language_info": {
   "codemirror_mode": {
    "name": "ipython",
    "version": 2
   },
   "file_extension": ".py",
   "mimetype": "text/x-python",
   "name": "python",
   "nbconvert_exporter": "python",
   "pygments_lexer": "ipython2",
   "version": "2.7.6"
  }
 },
 "nbformat": 4,
 "nbformat_minor": 5
}
