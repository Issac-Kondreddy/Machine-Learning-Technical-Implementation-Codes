{
 "cells": [
  {
   "metadata": {
    "ExecuteTime": {
     "end_time": "2025-04-15T12:16:07.740384Z",
     "start_time": "2025-04-15T12:16:07.193584Z"
    }
   },
   "cell_type": "code",
   "source": [
    "import numpy as np\n",
    "import matplotlib.pyplot as plt\n",
    "from collections import Counter"
   ],
   "id": "2202c9812ca70e08",
   "outputs": [],
   "execution_count": 2
  },
  {
   "metadata": {
    "collapsed": true,
    "ExecuteTime": {
     "end_time": "2025-04-15T12:43:31.775965Z",
     "start_time": "2025-04-15T12:43:31.765894Z"
    }
   },
   "cell_type": "code",
   "source": [
    "class Node:\n",
    "    def __init__(self, feature=None, threshold=None, left=None, right=None, value=None):\n",
    "        self.feature =feature\n",
    "        self.threshold = threshold\n",
    "        self.left = left\n",
    "        self.right = right\n",
    "        self.value = value\n",
    "    def is_leaf(self):\n",
    "        return self.value is not None"
   ],
   "id": "initial_id",
   "outputs": [],
   "execution_count": 6
  },
  {
   "metadata": {
    "ExecuteTime": {
     "end_time": "2025-04-15T12:48:32.510957Z",
     "start_time": "2025-04-15T12:48:32.497065Z"
    }
   },
   "cell_type": "code",
   "source": [
    "class DecisionTreeClassifier:\n",
    "    def __init__(self, max_depth=5):\n",
    "        self.max_depth = 5\n",
    "        self.root = None\n",
    "    def fit(self, X,y):\n",
    "        self.root = self._build_tree(X,y)\n",
    "    def _build_tree(self,X,y, depth=0):\n",
    "        num_samples, num_features = X.shape\n",
    "        num_labels = len(set(y))\n",
    "        if depth>=self.max_depth or num_labels==1:\n",
    "            leaf_value = self._most_common_label(y)\n",
    "            return Node(value=leaf_value)\n",
    "        best_feat, best_thres = self._best_split(X, y)\n",
    "        left_idx = X[:, best_feat] <= best_thres\n",
    "        right_idx = X[:, best_feat] > best_thres\n",
    "        left = self._build_tree(X[left_idx], y[left_idx], depth+1)\n",
    "        right = self._build_tree(X[right_idx], y[right_idx], depth+1)\n",
    "        return Node(feature=best_feat, threshold=best_thres, left=left, right=right)\n",
    "    def _gini(self,y):\n",
    "        classes = np.unique(y)\n",
    "        gini = 1.0\n",
    "        for cls in classes:\n",
    "            p = np.sum(y==cls)/len(y)\n",
    "            gini -= p**2\n",
    "        return gini\n",
    "    def _gini_split(self, y_left, y_right):\n",
    "        n = len(y_left) + len(y_right)\n",
    "        gini_left = self._gini(y_left)\n",
    "        gini_right = self._gini(y_right)\n",
    "        weighted_gini = (len(y_left)/n)*gini_left + (len(y_right)/n) * gini_right\n",
    "        return weighted_gini\n",
    "    def _best_split(self,X,y):\n",
    "        best_gini = float('inf')\n",
    "        best_feature = None\n",
    "        best_threshold = None\n",
    "        n_features = X.shape[1]\n",
    "        for feature_index in range(n_features):\n",
    "            thresholds = np.unique(X[:, feature_index])\n",
    "            for threshold in thresholds:\n",
    "                left_indices = X[:, feature_index] <= threshold\n",
    "                right_indices = X[:,feature_index] > threshold\n",
    "                y_left = y[left_indices]\n",
    "                y_right = y[right_indices]\n",
    "                if len(y_left)==0 or len(y_right)==0:\n",
    "                    continue\n",
    "                gini = self._gini_split(y_left, y_right)\n",
    "                if gini < best_gini:\n",
    "                    best_gini = gini\n",
    "                    best_feature = feature_index\n",
    "                    best_threshold = threshold\n",
    "        return best_feature, best_threshold\n",
    "    def _most_common_label(self,y):\n",
    "        counter = Counter(y)\n",
    "        return counter.most_common(1)[0][0]\n",
    "    def predict(self, X):\n",
    "        return np.array([self._traverse_tree(x, self.root) for x in X])\n",
    "    def _traverse_tree(self, x, node):\n",
    "        if node.is_leaf():\n",
    "            return node.value\n",
    "        if x[node.feature] <= node.threshold:\n",
    "            return self._traverse_tree(x, node.left)\n",
    "        else:\n",
    "            return self._traverse_tree(x, node.right)\n",
    "    def accuracy(self, y_true, y_pred):\n",
    "        return np.sum(y_true==y_pred)/len(y_true)"
   ],
   "id": "770f5f15932ae385",
   "outputs": [],
   "execution_count": 15
  },
  {
   "metadata": {
    "ExecuteTime": {
     "end_time": "2025-04-15T12:49:50.473246Z",
     "start_time": "2025-04-15T12:49:48.054433Z"
    }
   },
   "cell_type": "code",
   "source": [
    "from sklearn.datasets import load_iris\n",
    "from sklearn.model_selection import train_test_split\n",
    "import numpy as np\n",
    "from collections import Counter"
   ],
   "id": "b57d5371b9036fc",
   "outputs": [],
   "execution_count": 21
  },
  {
   "metadata": {
    "ExecuteTime": {
     "end_time": "2025-04-15T12:49:58.813361Z",
     "start_time": "2025-04-15T12:49:58.797290Z"
    }
   },
   "cell_type": "code",
   "source": [
    "# Load iris\n",
    "iris = load_iris()\n",
    "X = iris.data\n",
    "y = iris.target\n",
    "\n",
    "# Split into train and test\n",
    "X_train, X_test, y_train, y_test = train_test_split(X, y, test_size=0.2, random_state=42)"
   ],
   "id": "883cbddda442d20a",
   "outputs": [],
   "execution_count": 22
  },
  {
   "metadata": {
    "ExecuteTime": {
     "end_time": "2025-04-15T12:50:21.021239Z",
     "start_time": "2025-04-15T12:50:21.002109Z"
    }
   },
   "cell_type": "code",
   "source": [
    "model = DecisionTreeClassifier(max_depth=3)\n",
    "model.fit(X_train, y_train)\n",
    "\n",
    "y_pred = model.predict(X_test)\n",
    "\n",
    "acc = model.accuracy(y_test, y_pred)\n",
    "print(f\"Accuracy on Iris Dataset: {acc * 100:.2f}%\")"
   ],
   "id": "7706da8b6835077f",
   "outputs": [
    {
     "name": "stdout",
     "output_type": "stream",
     "text": [
      "Accuracy on Iris Dataset: 100.00%\n"
     ]
    }
   ],
   "execution_count": 25
  },
  {
   "metadata": {
    "ExecuteTime": {
     "end_time": "2025-04-15T12:50:42.992105Z",
     "start_time": "2025-04-15T12:50:42.984703Z"
    }
   },
   "cell_type": "code",
   "source": "print(\"Predictions: \", y_pred)",
   "id": "799781fd0adfce8b",
   "outputs": [
    {
     "name": "stdout",
     "output_type": "stream",
     "text": [
      "Predictions:  [1 0 2 1 1 0 1 2 1 1 2 0 0 0 0 1 2 1 1 2 0 2 0 2 2 2 2 2 0 0]\n"
     ]
    }
   ],
   "execution_count": 26
  },
  {
   "metadata": {
    "ExecuteTime": {
     "end_time": "2025-04-15T12:52:55.308697Z",
     "start_time": "2025-04-15T12:52:55.299786Z"
    }
   },
   "cell_type": "code",
   "source": [
    "for i in range(len(y_test)):\n",
    "    if y_test[i] != y_pred[i]:\n",
    "        print(f\"Wrong prediction → True: {y_test[i]}, Predicted: {y_pred[i]}\")\n"
   ],
   "id": "f46e78a30ec6fbcc",
   "outputs": [],
   "execution_count": 27
  },
  {
   "metadata": {},
   "cell_type": "code",
   "outputs": [],
   "execution_count": null,
   "source": "",
   "id": "64ce816212611087"
  }
 ],
 "metadata": {
  "kernelspec": {
   "display_name": "Python 3",
   "language": "python",
   "name": "python3"
  },
  "language_info": {
   "codemirror_mode": {
    "name": "ipython",
    "version": 2
   },
   "file_extension": ".py",
   "mimetype": "text/x-python",
   "name": "python",
   "nbconvert_exporter": "python",
   "pygments_lexer": "ipython2",
   "version": "2.7.6"
  }
 },
 "nbformat": 4,
 "nbformat_minor": 5
}
