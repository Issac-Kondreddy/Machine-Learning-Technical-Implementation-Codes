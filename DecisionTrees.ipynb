{
 "cells": [
  {
   "metadata": {},
   "cell_type": "code",
   "outputs": [],
   "execution_count": null,
   "source": [
    "import numpy as np\n",
    "import matplotlib.pyplot as plt\n",
    "from collections import Counter"
   ],
   "id": "2202c9812ca70e08"
  },
  {
   "metadata": {
    "collapsed": true,
    "ExecuteTime": {
     "end_time": "2025-04-14T20:44:16.929479Z",
     "start_time": "2025-04-14T20:44:16.924042Z"
    }
   },
   "cell_type": "code",
   "source": [
    "class Node:\n",
    "    def __init__(self, feature=None, threshold=None, left=None, right=None, value=None):\n",
    "        self.feature = feature\n",
    "        self.threshold = threshold\n",
    "        self.left = left\n",
    "        self.right = right\n",
    "        self.value = None\n",
    "    def is_leaf(self):\n",
    "        return self.value is not None"
   ],
   "id": "initial_id",
   "outputs": [],
   "execution_count": 1
  },
  {
   "metadata": {},
   "cell_type": "code",
   "outputs": [],
   "execution_count": null,
   "source": [
    "class DecisionTreeClassifier:\n",
    "    def __init__(self, max_depth = 5):\n",
    "        self.max_depth = max_depth\n",
    "        self.root = None\n",
    "    def fit(self, X,y):\n",
    "        self.root = self._build_tree(X, y)\n",
    "    def  _build_tree(self, X,y, depth=0):\n",
    "        num_samples, num_features = X.shape\n",
    "        num_labels = len(set(y))\n",
    "        if depth>=self.max_depth or num_labels==1:\n",
    "            leaf_value = self._most_common_label(y)\n",
    "            return Node(value=leaf_value)"
   ],
   "id": "770f5f15932ae385"
  }
 ],
 "metadata": {
  "kernelspec": {
   "display_name": "Python 3",
   "language": "python",
   "name": "python3"
  },
  "language_info": {
   "codemirror_mode": {
    "name": "ipython",
    "version": 2
   },
   "file_extension": ".py",
   "mimetype": "text/x-python",
   "name": "python",
   "nbconvert_exporter": "python",
   "pygments_lexer": "ipython2",
   "version": "2.7.6"
  }
 },
 "nbformat": 4,
 "nbformat_minor": 5
}
