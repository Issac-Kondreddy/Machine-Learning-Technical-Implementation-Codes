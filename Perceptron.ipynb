{
 "cells": [
  {
   "cell_type": "code",
   "id": "initial_id",
   "metadata": {
    "collapsed": true,
    "ExecuteTime": {
     "end_time": "2025-04-16T12:33:20.763949Z",
     "start_time": "2025-04-16T12:33:19.695036Z"
    }
   },
   "source": [
    "import numpy as np\n",
    "import matplotlib.pyplot as plt"
   ],
   "outputs": [],
   "execution_count": 1
  },
  {
   "metadata": {
    "ExecuteTime": {
     "end_time": "2025-04-16T12:47:17.139050Z",
     "start_time": "2025-04-16T12:47:17.132602Z"
    }
   },
   "cell_type": "code",
   "source": [
    "class Perceptron:\n",
    "    def __init__(self, learning_Rate = 0.01,num_epochs = 100,weights=None, bias =0):\n",
    "        self.lr = learning_Rate\n",
    "        self.epochs = num_epochs\n",
    "        self.weights = weights\n",
    "        self.bias = bias\n",
    "    def fit(self, X,y):\n",
    "        X = np.array(X)\n",
    "        y = np.array(y)\n",
    "        num_samples, num_features = X.shape\n",
    "        self.weights = np.zeros(num_features)\n",
    "        for _ in range(self.epochs):\n",
    "            for idx, x_i in enumerate(X):\n",
    "                z = np.dot(self.weights, x_i) + self.bias\n",
    "                y_pred = np.sign(z)\n",
    "                if y_pred != y[idx]:\n",
    "                    self.weights += self.lr * y[idx] * x_i\n",
    "                    self.bias += self.lr * y[idx]\n",
    "        return self.weights, self.bias\n",
    "    def predict(self, X):\n",
    "        predictions = []\n",
    "        for x in X:\n",
    "            z = np.dot(self.weights, x) + self.bias\n",
    "            y = np.sign(z)\n",
    "            predictions.append(1 if y>=0 else 0)\n",
    "        return predictions\n"
   ],
   "id": "43c2c064c32106f5",
   "outputs": [],
   "execution_count": 13
  },
  {
   "metadata": {
    "ExecuteTime": {
     "end_time": "2025-04-16T12:48:43.661349Z",
     "start_time": "2025-04-16T12:48:43.654088Z"
    }
   },
   "cell_type": "code",
   "source": [
    "X = [[1, 1], [2, 1], [2, 3], [3, 5]]\n",
    "y = [1, 1, 0, 0]  # Convert 0 → -1\n",
    "model = Perceptron()\n",
    "model.fit(X, y)\n",
    "print(model.predict([[4, 5], [0, 1]]))\n",
    "print(\"Model Weights\", model.weights)\n",
    "print(\"Model Bias \",model.bias)"
   ],
   "id": "6606f30360fef15b",
   "outputs": [
    {
     "name": "stdout",
     "output_type": "stream",
     "text": [
      "[1, 1]\n",
      "Model Weights [0.01 0.01]\n",
      "Model Bias  0.01\n"
     ]
    }
   ],
   "execution_count": 18
  },
  {
   "metadata": {
    "ExecuteTime": {
     "end_time": "2025-04-16T12:49:17.647288Z",
     "start_time": "2025-04-16T12:49:17.635201Z"
    }
   },
   "cell_type": "code",
   "source": [
    "X = [[2, 3], [1, 1], [2, 1], [3, 5]]\n",
    "y = [1, 1, -1, -1]\n",
    "model = Perceptron()\n",
    "model.fit(X, y)\n",
    "test_points = [[4, 5], [0, 1], [3, 1], [1, 3]]\n",
    "print(model.predict(test_points))\n",
    "print(\"Model Weights\", model.weights)\n",
    "print(\"Model Bias \",model.bias)\n"
   ],
   "id": "72edbd8767e75b91",
   "outputs": [
    {
     "name": "stdout",
     "output_type": "stream",
     "text": [
      "[0, 1, 0, 1]\n",
      "Model Weights [-0.08  0.03]\n",
      "Model Bias  0.09\n"
     ]
    }
   ],
   "execution_count": 19
  },
  {
   "metadata": {},
   "cell_type": "code",
   "outputs": [],
   "execution_count": null,
   "source": "",
   "id": "c2d3466cb3af81a0"
  }
 ],
 "metadata": {
  "kernelspec": {
   "display_name": "Python 3",
   "language": "python",
   "name": "python3"
  },
  "language_info": {
   "codemirror_mode": {
    "name": "ipython",
    "version": 2
   },
   "file_extension": ".py",
   "mimetype": "text/x-python",
   "name": "python",
   "nbconvert_exporter": "python",
   "pygments_lexer": "ipython2",
   "version": "2.7.6"
  }
 },
 "nbformat": 4,
 "nbformat_minor": 5
}
